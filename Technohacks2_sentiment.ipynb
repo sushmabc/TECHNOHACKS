{
  "nbformat": 4,
  "nbformat_minor": 0,
  "metadata": {
    "colab": {
      "provenance": []
    },
    "kernelspec": {
      "name": "python3",
      "display_name": "Python 3"
    },
    "language_info": {
      "name": "python"
    }
  },
  "cells": [
    {
      "cell_type": "code",
      "source": [
        "import numpy as np\n",
        "import pandas as pd\n",
        "import os\n",
        "for dirname, _, filenames in os.walk('/kaggle/input'):\n",
        "    for filename in filenames:\n",
        "        print(os.path.join(dirname, filename))"
      ],
      "metadata": {
        "id": "gG3OPx5aWyHm"
      },
      "execution_count": null,
      "outputs": []
    },
    {
      "cell_type": "markdown",
      "source": [
        "Importing Necessary Libraries"
      ],
      "metadata": {
        "id": "yRF8nl03W7HX"
      }
    },
    {
      "cell_type": "code",
      "source": [
        "import pandas as pd\n",
        "import numpy as np\n",
        "import torch\n",
        "import torch.nn as nn\n",
        "import torch.optim as optim\n",
        "from torch.optim import Adam\n",
        "from sklearn.preprocessing import OneHotEncoder\n",
        "import nltk\n",
        "nltk.download('stopwords')\n",
        "nltk.download('wordnet')\n",
        "from sklearn.metrics import accuracy_score\n",
        "from sklearn.feature_extraction.text import TfidfVectorizer\n",
        "import torch.nn.functional as F\n",
        "from sklearn.metrics import f1_score\n",
        "import matplotlib.pyplot as plt"
      ],
      "metadata": {
        "colab": {
          "base_uri": "https://localhost:8080/"
        },
        "id": "yAcQLZ1iW3tB",
        "outputId": "ac7ddc3a-60dd-40c3-8a75-31a8dc5df1cd"
      },
      "execution_count": null,
      "outputs": [
        {
          "output_type": "stream",
          "name": "stderr",
          "text": [
            "[nltk_data] Downloading package stopwords to /root/nltk_data...\n",
            "[nltk_data]   Package stopwords is already up-to-date!\n",
            "[nltk_data] Downloading package wordnet to /root/nltk_data...\n",
            "[nltk_data]   Package wordnet is already up-to-date!\n"
          ]
        }
      ]
    },
    {
      "cell_type": "markdown",
      "source": [
        "Loading the dataset"
      ],
      "metadata": {
        "id": "yrM9uWOiXENg"
      }
    },
    {
      "cell_type": "code",
      "source": [
        "new_data=pd.read_csv('/content/drive/MyDrive/Tweets.csv')\n",
        "new_data.info()\n",
        "print(new_data.shape)\n",
        "print(new_data['airline_sentiment'].value_counts())"
      ],
      "metadata": {
        "colab": {
          "base_uri": "https://localhost:8080/"
        },
        "id": "iuHkfEylXBVZ",
        "outputId": "4ad1add6-b671-43af-e61b-5d5265ef187f"
      },
      "execution_count": null,
      "outputs": [
        {
          "output_type": "stream",
          "name": "stdout",
          "text": [
            "<class 'pandas.core.frame.DataFrame'>\n",
            "RangeIndex: 14640 entries, 0 to 14639\n",
            "Data columns (total 15 columns):\n",
            " #   Column                        Non-Null Count  Dtype  \n",
            "---  ------                        --------------  -----  \n",
            " 0   tweet_id                      14640 non-null  int64  \n",
            " 1   airline_sentiment             14640 non-null  object \n",
            " 2   airline_sentiment_confidence  14640 non-null  float64\n",
            " 3   negativereason                9178 non-null   object \n",
            " 4   negativereason_confidence     10522 non-null  float64\n",
            " 5   airline                       14640 non-null  object \n",
            " 6   airline_sentiment_gold        40 non-null     object \n",
            " 7   name                          14640 non-null  object \n",
            " 8   negativereason_gold           32 non-null     object \n",
            " 9   retweet_count                 14640 non-null  int64  \n",
            " 10  text                          14640 non-null  object \n",
            " 11  tweet_coord                   1019 non-null   object \n",
            " 12  tweet_created                 14640 non-null  object \n",
            " 13  tweet_location                9907 non-null   object \n",
            " 14  user_timezone                 9820 non-null   object \n",
            "dtypes: float64(2), int64(2), object(11)\n",
            "memory usage: 1.7+ MB\n",
            "(14640, 15)\n",
            "negative    9178\n",
            "neutral     3099\n",
            "positive    2363\n",
            "Name: airline_sentiment, dtype: int64\n"
          ]
        }
      ]
    },
    {
      "cell_type": "markdown",
      "source": [
        "Visualization"
      ],
      "metadata": {
        "id": "H0Qn4jD-XSv9"
      }
    },
    {
      "cell_type": "code",
      "source": [
        "sentiment_counts = new_data['airline_sentiment'].value_counts()\n",
        "\n",
        "colors = {'negative': 'red', 'neutral': 'yellow', 'positive': 'green'}\n",
        "\n",
        "plt.bar(sentiment_counts.index, sentiment_counts, color=[colors[s] for s in sentiment_counts.index])\n",
        "\n",
        "plt.xlabel('Sentiment')\n",
        "plt.ylabel('Count')\n",
        "plt.title('Sentiment Distribution')\n",
        "\n",
        "\n",
        "plt.show()"
      ],
      "metadata": {
        "colab": {
          "base_uri": "https://localhost:8080/",
          "height": 472
        },
        "id": "K7fCfwALXQeg",
        "outputId": "ac8f033e-f679-4cb1-9c84-46528c79fc32"
      },
      "execution_count": null,
      "outputs": [
        {
          "output_type": "display_data",
          "data": {
            "text/plain": [
              "<Figure size 640x480 with 1 Axes>"
            ],
            "image/png": "[encoded data removed]"
          },
          "metadata": {}
        }
      ]
    },
    {
      "cell_type": "code",
      "source": [
        "new_data.head()"
      ],
      "metadata": {
        "colab": {
          "base_uri": "https://localhost:8080/",
          "height": 451
        },
        "id": "mUu8p92VXWXl",
        "outputId": "3a66a9b2-4bf9-438b-cd75-84c01654f489"
      },
      "execution_count": null,
      "outputs": [
        {
          "output_type": "execute_result",
          "data": {
            "text/plain": [
              "             tweet_id airline_sentiment  airline_sentiment_confidence  \\\n",
              "0  570306133677760513           neutral                        1.0000   \n",
              "1  570301130888122368          positive                        0.3486   \n",
              "2  570301083672813571           neutral                        0.6837   \n",
              "3  570301031407624196          negative                        1.0000   \n",
              "4  570300817074462722          negative                        1.0000   \n",
              "\n",
              "  negativereason  negativereason_confidence         airline  \\\n",
              "0            NaN                        NaN  Virgin America   \n",
              "1            NaN                     0.0000  Virgin America   \n",
              "2            NaN                        NaN  Virgin America   \n",
              "3     Bad Flight                     0.7033  Virgin America   \n",
              "4     Can't Tell                     1.0000  Virgin America   \n",
              "\n",
              "  airline_sentiment_gold        name negativereason_gold  retweet_count  \\\n",
              "0                    NaN     cairdin                 NaN              0   \n",
              "1                    NaN    jnardino                 NaN              0   \n",
              "2                    NaN  yvonnalynn                 NaN              0   \n",
              "3                    NaN    jnardino                 NaN              0   \n",
              "4                    NaN    jnardino                 NaN              0   \n",
              "\n",
              "                                                text tweet_coord  \\\n",
              "0                @VirginAmerica What @dhepburn said.         NaN   \n",
              "1  @VirginAmerica plus you've added commercials t...         NaN   \n",
              "2  @VirginAmerica I didn't today... Must mean I n...         NaN   \n",
              "3  @VirginAmerica it's really aggressive to blast...         NaN   \n",
              "4  @VirginAmerica and it's a really big bad thing...         NaN   \n",
              "\n",
              "               tweet_created tweet_location               user_timezone  \n",
              "0  2015-02-24 11:35:52 -0800            NaN  Eastern Time (US & Canada)  \n",
              "1  2015-02-24 11:15:59 -0800            NaN  Pacific Time (US & Canada)  \n",
              "2  2015-02-24 11:15:48 -0800      Lets Play  Central Time (US & Canada)  \n",
              "3  2015-02-24 11:15:36 -0800            NaN  Pacific Time (US & Canada)  \n",
              "4  2015-02-24 11:14:45 -0800            NaN  Pacific Time (US & Canada)  "
            ],
            "text/html": [
              "\n",
              "  <div id=\"df-934383b7-58c8-4a1a-bf99-5c7fa81796bc\" class=\"colab-df-container\">\n",
              "    <div>\n",
              "<style scoped>\n",
              "    .dataframe tbody tr th:only-of-type {\n",
              "        vertical-align: middle;\n",
              "    }\n",
              "\n",
              "    .dataframe tbody tr th {\n",
              "        vertical-align: top;\n",
              "    }\n",
              "\n",
              "    .dataframe thead th {\n",
              "        text-align: right;\n",
              "    }\n",
              "</style>\n",
              "<table border=\"1\" class=\"dataframe\">\n",
              "  <thead>\n",
              "    <tr style=\"text-align: right;\">\n",
              "      <th></th>\n",
              "      <th>tweet_id</th>\n",
              "      <th>airline_sentiment</th>\n",
              "      <th>airline_sentiment_confidence</th>\n",
              "      <th>negativereason</th>\n",
              "      <th>negativereason_confidence</th>\n",
              "      <th>airline</th>\n",
              "      <th>airline_sentiment_gold</th>\n",
              "      <th>name</th>\n",
              "      <th>negativereason_gold</th>\n",
              "      <th>retweet_count</th>\n",
              "      <th>text</th>\n",
              "      <th>tweet_coord</th>\n",
              "      <th>tweet_created</th>\n",
              "      <th>tweet_location</th>\n",
              "      <th>user_timezone</th>\n",
              "    </tr>\n",
              "  </thead>\n",
              "  <tbody>\n",
              "    <tr>\n",
              "      <th>0</th>\n",
              "      <td>570306133677760513</td>\n",
              "      <td>neutral</td>\n",
              "      <td>1.0000</td>\n",
              "      <td>NaN</td>\n",
              "      <td>NaN</td>\n",
              "      <td>Virgin America</td>\n",
              "      <td>NaN</td>\n",
              "      <td>cairdin</td>\n",
              "      <td>NaN</td>\n",
              "      <td>0</td>\n",
              "      <td>@VirginAmerica What @dhepburn said.</td>\n",
              "      <td>NaN</td>\n",
              "      <td>2015-02-24 11:35:52 -0800</td>\n",
              "      <td>NaN</td>\n",
              "      <td>Eastern Time (US &amp; Canada)</td>\n",
              "    </tr>\n",
              "    <tr>\n",
              "      <th>1</th>\n",
              "      <td>570301130888122368</td>\n",
              "      <td>positive</td>\n",
              "      <td>0.3486</td>\n",
              "      <td>NaN</td>\n",
              "      <td>0.0000</td>\n",
              "      <td>Virgin America</td>\n",
              "      <td>NaN</td>\n",
              "      <td>jnardino</td>\n",
              "      <td>NaN</td>\n",
              "      <td>0</td>\n",
              "      <td>@VirginAmerica plus you've added commercials t...</td>\n",
              "      <td>NaN</td>\n",
              "      <td>2015-02-24 11:15:59 -0800</td>\n",
              "      <td>NaN</td>\n",
              "      <td>Pacific Time (US &amp; Canada)</td>\n",
              "    </tr>\n",
              "    <tr>\n",
              "      <th>2</th>\n",
              "      <td>570301083672813571</td>\n",
              "      <td>neutral</td>\n",
              "      <td>0.6837</td>\n",
              "      <td>NaN</td>\n",
              "      <td>NaN</td>\n",
              "      <td>Virgin America</td>\n",
              "      <td>NaN</td>\n",
              "      <td>yvonnalynn</td>\n",
              "      <td>NaN</td>\n",
              "      <td>0</td>\n",
              "      <td>@VirginAmerica I didn't today... Must mean I n...</td>\n",
              "      <td>NaN</td>\n",
              "      <td>2015-02-24 11:15:48 -0800</td>\n",
              "      <td>Lets Play</td>\n",
              "      <td>Central Time (US &amp; Canada)</td>\n",
              "    </tr>\n",
              "    <tr>\n",
              "      <th>3</th>\n",
              "      <td>570301031407624196</td>\n",
              "      <td>negative</td>\n",
              "      <td>1.0000</td>\n",
              "      <td>Bad Flight</td>\n",
              "      <td>0.7033</td>\n",
              "      <td>Virgin America</td>\n",
              "      <td>NaN</td>\n",
              "      <td>jnardino</td>\n",
              "      <td>NaN</td>\n",
              "      <td>0</td>\n",
              "      <td>@VirginAmerica it's really aggressive to blast...</td>\n",
              "      <td>NaN</td>\n",
              "      <td>2015-02-24 11:15:36 -0800</td>\n",
              "      <td>NaN</td>\n",
              "      <td>Pacific Time (US &amp; Canada)</td>\n",
              "    </tr>\n",
              "    <tr>\n",
              "      <th>4</th>\n",
              "      <td>570300817074462722</td>\n",
              "      <td>negative</td>\n",
              "      <td>1.0000</td>\n",
              "      <td>Can't Tell</td>\n",
              "      <td>1.0000</td>\n",
              "      <td>Virgin America</td>\n",
              "      <td>NaN</td>\n",
              "      <td>jnardino</td>\n",
              "      <td>NaN</td>\n",
              "      <td>0</td>\n",
              "      <td>@VirginAmerica and it's a really big bad thing...</td>\n",
              "      <td>NaN</td>\n",
              "      <td>2015-02-24 11:14:45 -0800</td>\n",
              "      <td>NaN</td>\n",
              "      <td>Pacific Time (US &amp; Canada)</td>\n",
              "    </tr>\n",
              "  </tbody>\n",
              "</table>\n",
              "</div>\n",
              "    <div class=\"colab-df-buttons\">\n",
              "\n",
              "  <div class=\"colab-df-container\">\n",
              "    <button class=\"colab-df-convert\" onclick=\"convertToInteractive('df-934383b7-58c8-4a1a-bf99-5c7fa81796bc')\"\n",
              "            title=\"Convert this dataframe to an interactive table.\"\n",
              "            style=\"display:none;\">\n",
              "\n",
              "  <svg xmlns=\"http://www.w3.org/2000/svg\" height=\"24px\" viewBox=\"0 -960 960 960\">\n",
              "    <path d=\"M120-120v-720h720v720H120Zm60-500h600v-160H180v160Zm220 220h160v-160H400v160Zm0 220h160v-160H400v160ZM180-400h160v-160H180v160Zm440 0h160v-160H620v160ZM180-180h160v-160H180v160Zm440 0h160v-160H620v160Z\"/>\n",
              "  </svg>\n",
              "    </button>\n",
              "\n",
              "  <style>\n",
              "    .colab-df-container {\n",
              "      display:flex;\n",
              "      gap: 12px;\n",
              "    }\n",
              "\n",
              "    .colab-df-convert {\n",
              "      background-color: #E8F0FE;\n",
              "      border: none;\n",
              "      border-radius: 50%;\n",
              "      cursor: pointer;\n",
              "      display: none;\n",
              "      fill: #1967D2;\n",
              "      height: 32px;\n",
              "      padding: 0 0 0 0;\n",
              "      width: 32px;\n",
              "    }\n",
              "\n",
              "    .colab-df-convert:hover {\n",
              "      background-color: #E2EBFA;\n",
              "      box-shadow: 0px 1px 2px rgba(60, 64, 67, 0.3), 0px 1px 3px 1px rgba(60, 64, 67, 0.15);\n",
              "      fill: #174EA6;\n",
              "    }\n",
              "\n",
              "    .colab-df-buttons div {\n",
              "      margin-bottom: 4px;\n",
              "    }\n",
              "\n",
              "    [theme=dark] .colab-df-convert {\n",
              "      background-color: #3B4455;\n",
              "      fill: #D2E3FC;\n",
              "    }\n",
              "\n",
              "    [theme=dark] .colab-df-convert:hover {\n",
              "      background-color: #434B5C;\n",
              "      box-shadow: 0px 1px 3px 1px rgba(0, 0, 0, 0.15);\n",
              "      filter: drop-shadow(0px 1px 2px rgba(0, 0, 0, 0.3));\n",
              "      fill: #FFFFFF;\n",
              "    }\n",
              "  </style>\n",
              "\n",
              "    <script>\n",
              "      const buttonEl =\n",
              "        document.querySelector('#df-934383b7-58c8-4a1a-bf99-5c7fa81796bc button.colab-df-convert');\n",
              "      buttonEl.style.display =\n",
              "        google.colab.kernel.accessAllowed ? 'block' : 'none';\n",
              "\n",
              "      async function convertToInteractive(key) {\n",
              "        const element = document.querySelector('#df-934383b7-58c8-4a1a-bf99-5c7fa81796bc');\n",
              "        const dataTable =\n",
              "          await google.colab.kernel.invokeFunction('convertToInteractive',\n",
              "                                                    [key], {});\n",
              "        if (!dataTable) return;\n",
              "\n",
              "        const docLinkHtml = 'Like what you see? Visit the ' +\n",
              "          '<a target=\"_blank\" href=https://colab.research.google.com/notebooks/data_table.ipynb>data table notebook</a>'\n",
              "          + ' to learn more about interactive tables.';\n",
              "        element.innerHTML = '';\n",
              "        dataTable['output_type'] = 'display_data';\n",
              "        await google.colab.output.renderOutput(dataTable, element);\n",
              "        const docLink = document.createElement('div');\n",
              "        docLink.innerHTML = docLinkHtml;\n",
              "        element.appendChild(docLink);\n",
              "      }\n",
              "    </script>\n",
              "  </div>\n",
              "\n",
              "\n",
              "<div id=\"df-92d4d5d4-b2f7-4957-b921-e64952402f54\">\n",
              "  <button class=\"colab-df-quickchart\" onclick=\"quickchart('df-92d4d5d4-b2f7-4957-b921-e64952402f54')\"\n",
              "            title=\"Suggest charts.\"\n",
              "            style=\"display:none;\">\n",
              "\n",
              "<svg xmlns=\"http://www.w3.org/2000/svg\" height=\"24px\"viewBox=\"0 0 24 24\"\n",
              "     width=\"24px\">\n",
              "    <g>\n",
              "        <path d=\"M19 3H5c-1.1 0-2 .9-2 2v14c0 1.1.9 2 2 2h14c1.1 0 2-.9 2-2V5c0-1.1-.9-2-2-2zM9 17H7v-7h2v7zm4 0h-2V7h2v10zm4 0h-2v-4h2v4z\"/>\n",
              "    </g>\n",
              "</svg>\n",
              "  </button>\n",
              "\n",
              "<style>\n",
              "  .colab-df-quickchart {\n",
              "      --bg-color: #E8F0FE;\n",
              "      --fill-color: #1967D2;\n",
              "      --hover-bg-color: #E2EBFA;\n",
              "      --hover-fill-color: #174EA6;\n",
              "      --disabled-fill-color: #AAA;\n",
              "      --disabled-bg-color: #DDD;\n",
              "  }\n",
              "\n",
              "  [theme=dark] .colab-df-quickchart {\n",
              "      --bg-color: #3B4455;\n",
              "      --fill-color: #D2E3FC;\n",
              "      --hover-bg-color: #434B5C;\n",
              "      --hover-fill-color: #FFFFFF;\n",
              "      --disabled-bg-color: #3B4455;\n",
              "      --disabled-fill-color: #666;\n",
              "  }\n",
              "\n",
              "  .colab-df-quickchart {\n",
              "    background-color: var(--bg-color);\n",
              "    border: none;\n",
              "    border-radius: 50%;\n",
              "    cursor: pointer;\n",
              "    display: none;\n",
              "    fill: var(--fill-color);\n",
              "    height: 32px;\n",
              "    padding: 0;\n",
              "    width: 32px;\n",
              "  }\n",
              "\n",
              "  .colab-df-quickchart:hover {\n",
              "    background-color: var(--hover-bg-color);\n",
              "    box-shadow: 0 1px 2px rgba(60, 64, 67, 0.3), 0 1px 3px 1px rgba(60, 64, 67, 0.15);\n",
              "    fill: var(--button-hover-fill-color);\n",
              "  }\n",
              "\n",
              "  .colab-df-quickchart-complete:disabled,\n",
              "  .colab-df-quickchart-complete:disabled:hover {\n",
              "    background-color: var(--disabled-bg-color);\n",
              "    fill: var(--disabled-fill-color);\n",
              "    box-shadow: none;\n",
              "  }\n",
              "\n",
              "  .colab-df-spinner {\n",
              "    border: 2px solid var(--fill-color);\n",
              "    border-color: transparent;\n",
              "    border-bottom-color: var(--fill-color);\n",
              "    animation:\n",
              "      spin 1s steps(1) infinite;\n",
              "  }\n",
              "\n",
              "  @keyframes spin {\n",
              "    0% {\n",
              "      border-color: transparent;\n",
              "      border-bottom-color: var(--fill-color);\n",
              "      border-left-color: var(--fill-color);\n",
              "    }\n",
              "    20% {\n",
              "      border-color: transparent;\n",
              "      border-left-color: var(--fill-color);\n",
              "      border-top-color: var(--fill-color);\n",
              "    }\n",
              "    30% {\n",
              "      border-color: transparent;\n",
              "      border-left-color: var(--fill-color);\n",
              "      border-top-color: var(--fill-color);\n",
              "      border-right-color: var(--fill-color);\n",
              "    }\n",
              "    40% {\n",
              "      border-color: transparent;\n",
              "      border-right-color: var(--fill-color);\n",
              "      border-top-color: var(--fill-color);\n",
              "    }\n",
              "    60% {\n",
              "      border-color: transparent;\n",
              "      border-right-color: var(--fill-color);\n",
              "    }\n",
              "    80% {\n",
              "      border-color: transparent;\n",
              "      border-right-color: var(--fill-color);\n",
              "      border-bottom-color: var(--fill-color);\n",
              "    }\n",
              "    90% {\n",
              "      border-color: transparent;\n",
              "      border-bottom-color: var(--fill-color);\n",
              "    }\n",
              "  }\n",
              "</style>\n",
              "\n",
              "  <script>\n",
              "    async function quickchart(key) {\n",
              "      const quickchartButtonEl =\n",
              "        document.querySelector('#' + key + ' button');\n",
              "      quickchartButtonEl.disabled = true;  // To prevent multiple clicks.\n",
              "      quickchartButtonEl.classList.add('colab-df-spinner');\n",
              "      try {\n",
              "        const charts = await google.colab.kernel.invokeFunction(\n",
              "            'suggestCharts', [key], {});\n",
              "      } catch (error) {\n",
              "        console.error('Error during call to suggestCharts:', error);\n",
              "      }\n",
              "      quickchartButtonEl.classList.remove('colab-df-spinner');\n",
              "      quickchartButtonEl.classList.add('colab-df-quickchart-complete');\n",
              "    }\n",
              "    (() => {\n",
              "      let quickchartButtonEl =\n",
              "        document.querySelector('#df-92d4d5d4-b2f7-4957-b921-e64952402f54 button');\n",
              "      quickchartButtonEl.style.display =\n",
              "        google.colab.kernel.accessAllowed ? 'block' : 'none';\n",
              "    })();\n",
              "  </script>\n",
              "</div>\n",
              "    </div>\n",
              "  </div>\n"
            ]
          },
          "metadata": {},
          "execution_count": 38
        }
      ]
    },
    {
      "cell_type": "markdown",
      "source": [
        "Choosing useful columns"
      ],
      "metadata": {
        "id": "Z3xLOLuUXbv9"
      }
    },
    {
      "cell_type": "code",
      "source": [
        "data=new_data[['text','airline_sentiment']]\n",
        "DATA=pd.DataFrame(data)\n",
        "print(DATA)\n",
        "manq= DATA.isnull().sum()\n",
        "print(manq)"
      ],
      "metadata": {
        "colab": {
          "base_uri": "https://localhost:8080/"
        },
        "id": "-ZKKtsqRXZ6Q",
        "outputId": "ed4c1d6e-9ce4-4b39-ff11-9cfe2c172d9f"
      },
      "execution_count": null,
      "outputs": [
        {
          "output_type": "stream",
          "name": "stdout",
          "text": [
            "                                                    text airline_sentiment\n",
            "0                    @VirginAmerica What @dhepburn said.           neutral\n",
            "1      @VirginAmerica plus you've added commercials t...          positive\n",
            "2      @VirginAmerica I didn't today... Must mean I n...           neutral\n",
            "3      @VirginAmerica it's really aggressive to blast...          negative\n",
            "4      @VirginAmerica and it's a really big bad thing...          negative\n",
            "...                                                  ...               ...\n",
            "14635  @AmericanAir thank you we got on a different f...          positive\n",
            "14636  @AmericanAir leaving over 20 minutes Late Flig...          negative\n",
            "14637  @AmericanAir Please bring American Airlines to...           neutral\n",
            "14638  @AmericanAir you have my money, you change my ...          negative\n",
            "14639  @AmericanAir we have 8 ppl so we need 2 know h...           neutral\n",
            "\n",
            "[14640 rows x 2 columns]\n",
            "text                 0\n",
            "airline_sentiment    0\n",
            "dtype: int64\n"
          ]
        }
      ]
    },
    {
      "cell_type": "markdown",
      "source": [
        "Data Preprocessing"
      ],
      "metadata": {
        "id": "t87hST78Xob9"
      }
    },
    {
      "cell_type": "code",
      "source": [
        "X=DATA[['text']]\n",
        "y=DATA[['airline_sentiment']]\n",
        "Y = pd.get_dummies(y)"
      ],
      "metadata": {
        "id": "FAKy8J5KXe-T"
      },
      "execution_count": null,
      "outputs": []
    },
    {
      "cell_type": "markdown",
      "source": [
        "Data Cleaning"
      ],
      "metadata": {
        "id": "qO5zG3cLX2nG"
      }
    },
    {
      "cell_type": "code",
      "source": [
        "import re\n",
        "\n",
        "def texte_propre(text):\n",
        "    text = re.sub(r'http\\S+', '', text)\n",
        "    text = re.sub(r'[^a-zA-Z0-9\\s]', '', text)\n",
        "    text = text.lower()\n",
        "\n",
        "    return text\n",
        "texte = \"🌟 Exciting News! Join us for the #DataInsights webinar on Aug 25th at 3 PM. Learn from industry experts about the latest data-driven strategies. Register now: webinar@example.com 📈🔍 #DataScience\"\n",
        "texte_nettoye = texte_propre(texte)\n",
        "print(texte_nettoye)\n"
      ],
      "metadata": {
        "colab": {
          "base_uri": "https://localhost:8080/"
        },
        "id": "eHfPe4wgX0dc",
        "outputId": "27d1c93c-e668-4a29-87f6-a9ad21c9c29d"
      },
      "execution_count": null,
      "outputs": [
        {
          "output_type": "stream",
          "name": "stdout",
          "text": [
            " exciting news join us for the datainsights webinar on aug 25th at 3 pm learn from industry experts about the latest datadriven strategies register now webinarexamplecom  datascience\n"
          ]
        }
      ]
    },
    {
      "cell_type": "markdown",
      "source": [
        "Tokenization"
      ],
      "metadata": {
        "id": "mz1pR3LRX_1O"
      }
    },
    {
      "cell_type": "code",
      "source": [
        "from nltk.tokenize import RegexpTokenizer\n",
        "\n",
        "\n",
        "def tokenisation(texte):\n",
        "    tokeniser = RegexpTokenizer(r'\\w+')\n",
        "    tokens = tokeniser.tokenize(texte)\n",
        "    return tokens\n",
        "texte = \"🌟 Exciting News! Join us for the #DataInsights webinar on Aug 25th at 3 PM. Learn from industry experts about the latest data-driven strategies. Register now: webinar@example.com 📈🔍 #DataScience\"\n",
        "TOKENS=tokenisation(texte)\n",
        "print(TOKENS)"
      ],
      "metadata": {
        "colab": {
          "base_uri": "https://localhost:8080/"
        },
        "id": "5t3W1lKyX8bv",
        "outputId": "994d6e7d-a2f0-4444-bf3a-eeb638e915b8"
      },
      "execution_count": null,
      "outputs": [
        {
          "output_type": "stream",
          "name": "stdout",
          "text": [
            "['Exciting', 'News', 'Join', 'us', 'for', 'the', 'DataInsights', 'webinar', 'on', 'Aug', '25th', 'at', '3', 'PM', 'Learn', 'from', 'industry', 'experts', 'about', 'the', 'latest', 'data', 'driven', 'strategies', 'Register', 'now', 'webinar', 'example', 'com', 'DataScience']\n"
          ]
        }
      ]
    },
    {
      "cell_type": "markdown",
      "source": [
        "stemmatization"
      ],
      "metadata": {
        "id": "JP4vGZjxYLcg"
      }
    },
    {
      "cell_type": "code",
      "source": [
        "from nltk.stem import PorterStemmer\n",
        "def stemmatisation(text):\n",
        "    stemmer = PorterStemmer()\n",
        "    words = tokenisation(text)\n",
        "    stemmed_words = [stemmer.stem(word) for word in words]\n",
        "    stemmed_text = ' '.join(stemmed_words)\n",
        "    return stemmed_text\n",
        "texte = \"🌟 Exciting News! Join us for the #DataInsights webinar on Aug 25th at 3 PM. Learn from industry experts about the latest data-driven strategies. Register now: webinar@example.com 📈🔍 #DataScience\"\n",
        "\n",
        "stem = stemmatisation(texte)\n",
        "print(stem)"
      ],
      "metadata": {
        "colab": {
          "base_uri": "https://localhost:8080/"
        },
        "id": "FZ17EgMQYD21",
        "outputId": "dcf15a6f-c81c-4759-dae5-7c0a2a3cf0b5"
      },
      "execution_count": null,
      "outputs": [
        {
          "output_type": "stream",
          "name": "stdout",
          "text": [
            "excit new join us for the datainsight webinar on aug 25th at 3 pm learn from industri expert about the latest data driven strategi regist now webinar exampl com datasci\n"
          ]
        }
      ]
    },
    {
      "cell_type": "markdown",
      "source": [
        "Stop words"
      ],
      "metadata": {
        "id": "kV6SdbRZYUvi"
      }
    },
    {
      "cell_type": "code",
      "source": [
        "import nltk\n",
        "from nltk.corpus import stopwords\n",
        "def keys_stopwords(text, language='english'):\n",
        "    stop_words = set(stopwords.words(language))\n",
        "    words = tokenisation(text)\n",
        "    keywords = [word for word in words if word.lower() not in stop_words]\n",
        "    return keywords\n",
        "texte = \"🌟 Exciting News! Join us for the #DataInsights webinar on Aug 25th at 3 PM. Learn from industry experts about the latest data-driven strategies. Register now: webinar@example.com 📈🔍 #DataScience\"\n",
        "keywords = keys_stopwords(texte , language='french')\n",
        "print(keywords)"
      ],
      "metadata": {
        "colab": {
          "base_uri": "https://localhost:8080/"
        },
        "id": "TOdzpkbZYSar",
        "outputId": "edaf1c3a-b697-4528-c6b2-c5d02bcfe0fc"
      },
      "execution_count": null,
      "outputs": [
        {
          "output_type": "stream",
          "name": "stdout",
          "text": [
            "['Exciting', 'News', 'Join', 'us', 'for', 'the', 'DataInsights', 'webinar', 'Aug', '25th', 'at', '3', 'PM', 'Learn', 'from', 'industry', 'experts', 'about', 'the', 'latest', 'data', 'driven', 'strategies', 'Register', 'now', 'webinar', 'example', 'com', 'DataScience']\n"
          ]
        }
      ]
    },
    {
      "cell_type": "markdown",
      "source": [
        "Text Preprocessing Function"
      ],
      "metadata": {
        "id": "URq7uAQMYb76"
      }
    },
    {
      "cell_type": "code",
      "source": [
        "def pretraitement(text):\n",
        "    phrase=texte_propre(text)\n",
        "    phrase=keys_stopwords(phrase)\n",
        "    phrase=str(phrase)\n",
        "    phrase=stemmatisation(phrase)\n",
        "\n",
        "    return phrase\n",
        "texte = \"🌟 Exciting News! Join us for the #DataInsights webinar on Aug 25th at 3 PM. Learn from industry experts about the latest data-driven strategies. Register now: webinar@example.com 📈🔍 #DataScience\"\n",
        "pretraitement(texte )"
      ],
      "metadata": {
        "colab": {
          "base_uri": "https://localhost:8080/",
          "height": 36
        },
        "id": "F_LS3ZuGYZiQ",
        "outputId": "a1a681ae-1422-4b63-da43-c0270009a858"
      },
      "execution_count": null,
      "outputs": [
        {
          "output_type": "execute_result",
          "data": {
            "text/plain": [
              "'excit news join us datainsight webinar aug 25th 3 pm learn industri expert latest datadriven strategi regist webinarexamplecom datasci'"
            ],
            "application/vnd.google.colaboratory.intrinsic+json": {
              "type": "string"
            }
          },
          "metadata": {},
          "execution_count": 45
        }
      ]
    },
    {
      "cell_type": "markdown",
      "source": [
        "TF-IDF « Term Frequency – Inverse Document Frequency >>"
      ],
      "metadata": {
        "id": "q84LqFNKYi-3"
      }
    },
    {
      "cell_type": "markdown",
      "source": [
        "TF Term Frequency:\n",
        "It measures the frequency of words in a document. It is the ratio of the number of times the word appears in a document to the total number of words in that document.\n",
        "\n",
        "\n"
      ],
      "metadata": {
        "id": "V2fJejSxYtUV"
      }
    },
    {
      "cell_type": "code",
      "source": [
        "def Term_Frequency(text, word):\n",
        "    words = text.split()\n",
        "    Nb_occ = 0\n",
        "\n",
        "    for w in words:\n",
        "        if w == word:\n",
        "            Nb_occ += 1\n",
        "\n",
        "    total= len(words)\n",
        "    TF = Nb_occ / total\n",
        "    return TF\n",
        "    texte = \"🌟 Exciting News! Join us for the #DataInsights webinar on Aug 25th at 3 PM. Learn from industry experts about the latest data-driven strategies. Register now: webinar@example.com 📈🔍 #DataScience\"\n",
        "mots = texte.split()\n",
        "\n",
        "index = []\n",
        "value = []\n",
        "\n",
        "for mot in mots:\n",
        "    TF = Term_Frequency(texte, mot)\n",
        "    index.append(mot)\n",
        "    value.append(TF)\n",
        "for i in range (len(index)):\n",
        "      tf=[index[i],value[i]]\n",
        "      tf=np.array(tf)\n",
        "      print(tf)\n"
      ],
      "metadata": {
        "colab": {
          "base_uri": "https://localhost:8080/"
        },
        "id": "Mjn4KmEYYfpg",
        "outputId": "22d3222d-b3e8-46d8-9f90-2326900c402f"
      },
      "execution_count": null,
      "outputs": [
        {
          "output_type": "stream",
          "name": "stdout",
          "text": [
            "['🌟' '0.034482758620689655']\n",
            "['Exciting' '0.034482758620689655']\n",
            "['News!' '0.034482758620689655']\n",
            "['Join' '0.034482758620689655']\n",
            "['us' '0.034482758620689655']\n",
            "['for' '0.034482758620689655']\n",
            "['the' '0.06896551724137931']\n",
            "['#DataInsights' '0.034482758620689655']\n",
            "['webinar' '0.034482758620689655']\n",
            "['on' '0.034482758620689655']\n",
            "['Aug' '0.034482758620689655']\n",
            "['25th' '0.034482758620689655']\n",
            "['at' '0.034482758620689655']\n",
            "['3' '0.034482758620689655']\n",
            "['PM.' '0.034482758620689655']\n",
            "['Learn' '0.034482758620689655']\n",
            "['from' '0.034482758620689655']\n",
            "['industry' '0.034482758620689655']\n",
            "['experts' '0.034482758620689655']\n",
            "['about' '0.034482758620689655']\n",
            "['the' '0.06896551724137931']\n",
            "['latest' '0.034482758620689655']\n",
            "['data-driven' '0.034482758620689655']\n",
            "['strategies.' '0.034482758620689655']\n",
            "['Register' '0.034482758620689655']\n",
            "['now:' '0.034482758620689655']\n",
            "['webinar@example.com' '0.034482758620689655']\n",
            "['📈🔍' '0.034482758620689655']\n",
            "['#DataScience' '0.034482758620689655']\n"
          ]
        }
      ]
    },
    {
      "cell_type": "markdown",
      "source": [
        "Applying the Preprocessing Function to Our Own Data"
      ],
      "metadata": {
        "id": "_zzJ4Z3oZHYh"
      }
    },
    {
      "cell_type": "code",
      "source": [
        "X['text']=X['text'].apply(pretraitement)\n",
        "\n",
        "X['text']"
      ],
      "metadata": {
        "colab": {
          "base_uri": "https://localhost:8080/"
        },
        "id": "ko89nZ93ZEwM",
        "outputId": "eaf2225c-5264-4273-a73b-f1d733e2ab59"
      },
      "execution_count": null,
      "outputs": [
        {
          "output_type": "stream",
          "name": "stderr",
          "text": [
            "<ipython-input-47-f995ec84f749>:1: SettingWithCopyWarning: \n",
            "A value is trying to be set on a copy of a slice from a DataFrame.\n",
            "Try using .loc[row_indexer,col_indexer] = value instead\n",
            "\n",
            "See the caveats in the documentation: https://pandas.pydata.org/pandas-docs/stable/user_guide/indexing.html#returning-a-view-versus-a-copy\n",
            "  X['text']=X['text'].apply(pretraitement)\n"
          ]
        },
        {
          "output_type": "execute_result",
          "data": {
            "text/plain": [
              "0                              virginamerica dhepburn said\n",
              "1          virginamerica plu youv ad commerci experi tacki\n",
              "2        virginamerica didnt today must mean need take ...\n",
              "3        virginamerica realli aggress blast obnoxi ente...\n",
              "4                       virginamerica realli big bad thing\n",
              "                               ...                        \n",
              "14635          americanair thank got differ flight chicago\n",
              "14636    americanair leav 20 minut late flight warn com...\n",
              "14637    americanair pleas bring american airlin blackb...\n",
              "14638    americanair money chang flight dont answer pho...\n",
              "14639    americanair 8 ppl need 2 know mani seat next f...\n",
              "Name: text, Length: 14640, dtype: object"
            ]
          },
          "metadata": {},
          "execution_count": 47
        }
      ]
    },
    {
      "cell_type": "markdown",
      "source": [
        "Applying TF-IDF to Our Data (using Sklearn)"
      ],
      "metadata": {
        "id": "4rJbVGMwZN5p"
      }
    },
    {
      "cell_type": "code",
      "source": [
        "from sklearn.feature_extraction.text import TfidfVectorizer\n",
        "\n",
        "corpus=X['text'].to_list()\n",
        "tfidf_vectorizer = TfidfVectorizer()\n",
        "tfidf= tfidf_vectorizer.fit_transform(corpus)\n",
        "print(tfidf.shape)"
      ],
      "metadata": {
        "colab": {
          "base_uri": "https://localhost:8080/"
        },
        "id": "QWbJZmwiZKnJ",
        "outputId": "b623a661-6107-470f-cf26-4393e828db65"
      },
      "execution_count": null,
      "outputs": [
        {
          "output_type": "stream",
          "name": "stdout",
          "text": [
            "(14640, 12629)\n"
          ]
        }
      ]
    },
    {
      "cell_type": "markdown",
      "source": [
        "Splitting the Dataset into Training and Testing Sets"
      ],
      "metadata": {
        "id": "GebPRSy-ZSnQ"
      }
    },
    {
      "cell_type": "code",
      "source": [
        "from sklearn.model_selection import train_test_split\n",
        "\n",
        "\n",
        "X_train, X_test, y_train, y_test= train_test_split(tfidf,Y,test_size = 0.3,random_state = 42) ## Let's take 70% of the data as training data.\n",
        "print(X_train.shape)\n",
        "print(X_test.shape)\n",
        "print(y_train.shape)\n",
        "print(y_test.shape)"
      ],
      "metadata": {
        "colab": {
          "base_uri": "https://localhost:8080/"
        },
        "id": "00JYdwaAZQT1",
        "outputId": "fe6ca075-c658-48be-971e-809d95a24cf1"
      },
      "execution_count": null,
      "outputs": [
        {
          "output_type": "stream",
          "name": "stdout",
          "text": [
            "(10248, 12629)\n",
            "(4392, 12629)\n",
            "(10248, 3)\n",
            "(4392, 3)\n"
          ]
        }
      ]
    },
    {
      "cell_type": "markdown",
      "source": [
        "Converting the Data into Tensors"
      ],
      "metadata": {
        "id": "R4XaLq0LZXR-"
      }
    },
    {
      "cell_type": "code",
      "source": [
        "X_train_tensor = torch.tensor(X_train.toarray(),dtype=torch.float32)\n",
        "y_train_tensor = torch.tensor(y_train.values)\n",
        "X_test_tensor = torch.tensor(X_test.toarray(),dtype=torch.float32)\n",
        "y_test_tensor = torch.tensor(y_test.values)\n",
        "print(X_train_tensor.shape)\n",
        "print(y_train_tensor.shape)\n",
        "print(X_test_tensor.shape)\n",
        "print(y_test_tensor.shape)"
      ],
      "metadata": {
        "colab": {
          "base_uri": "https://localhost:8080/"
        },
        "id": "QiYla5guZUrS",
        "outputId": "a0fe5f49-cef4-40f4-d76d-04d75796458a"
      },
      "execution_count": null,
      "outputs": [
        {
          "output_type": "stream",
          "name": "stdout",
          "text": [
            "torch.Size([10248, 12629])\n",
            "torch.Size([10248, 3])\n",
            "torch.Size([4392, 12629])\n",
            "torch.Size([4392, 3])\n"
          ]
        }
      ]
    },
    {
      "cell_type": "markdown",
      "source": [
        "Building our CNN model"
      ],
      "metadata": {
        "id": "wA90GccjZfO_"
      }
    },
    {
      "cell_type": "code",
      "source": [
        "input_dim = X_train_tensor.shape[1]\n",
        "num_classes = len(np.unique(y))\n",
        "hidden_dim = 25\n",
        "\n",
        "\n",
        "model = nn.Sequential(\n",
        "    nn.Conv1d(in_channels=1, out_channels=64, kernel_size=3),\n",
        "    nn.ReLU(),\n",
        "    nn.MaxPool1d(kernel_size=3),\n",
        "    nn.Conv1d(in_channels=64,kernel_size=5,out_channels=25),\n",
        "    nn.ReLU(),\n",
        "    nn.AdaptiveMaxPool1d(1),\n",
        "    nn.Flatten(),\n",
        "    nn.Linear(hidden_dim, num_classes),\n",
        ")"
      ],
      "metadata": {
        "id": "XhE2_hwEZaJ5"
      },
      "execution_count": null,
      "outputs": []
    },
    {
      "cell_type": "code",
      "source": [
        "X_train_reshape = torch.stack([li.view(1, 1, -1) for li in X_train_tensor])\n",
        "pred = model(X_train_reshape[1])\n",
        "pred"
      ],
      "metadata": {
        "colab": {
          "base_uri": "https://localhost:8080/"
        },
        "id": "KgkXkITzZh7d",
        "outputId": "15b5ab14-53e6-40a0-d960-1dadca8a4939"
      },
      "execution_count": null,
      "outputs": [
        {
          "output_type": "execute_result",
          "data": {
            "text/plain": [
              "tensor([[-0.0080,  0.0199,  0.2267]], grad_fn=<AddmmBackward0>)"
            ]
          },
          "metadata": {},
          "execution_count": 52
        }
      ]
    },
    {
      "cell_type": "code",
      "source": [
        "from torch.utils.data import DataLoader,TensorDataset\n",
        "\n",
        "trainset = TensorDataset(X_train_reshape,y_train_tensor)\n",
        "testset = TensorDataset(X_test_tensor,y_test_tensor)\n",
        "train_loader = DataLoader(trainset,batch_size = 10,shuffle = True)\n",
        "test_loader = DataLoader(testset,batch_size=10,shuffle = True)"
      ],
      "metadata": {
        "id": "t5eg19cTZra7"
      },
      "execution_count": null,
      "outputs": []
    },
    {
      "cell_type": "markdown",
      "source": [
        "Building the optimizer"
      ],
      "metadata": {
        "id": "CQwaHDiLZygz"
      }
    },
    {
      "cell_type": "code",
      "source": [
        "criterion = torch.nn.CrossEntropyLoss()\n",
        "optimizer = torch.optim.Adam(model.parameters(), lr = 0.01)"
      ],
      "metadata": {
        "id": "vsJrL0bcZuKo"
      },
      "execution_count": null,
      "outputs": []
    },
    {
      "cell_type": "markdown",
      "source": [
        "Training of the model"
      ],
      "metadata": {
        "id": "yxupLMq_Z3IX"
      }
    },
    {
      "cell_type": "code",
      "source": [
        "for epoch in range(10):\n",
        "\n",
        "    for data in trainset:\n",
        "        optimizer.zero_grad()\n",
        "\n",
        "        features,outputs = data\n",
        "        outputs = outputs.to(torch.float)\n",
        "        y_pred =  F.softmax(model(features),dim=1)\n",
        "        loss = criterion(y_pred, outputs.view(1,-1))\n",
        "\n",
        "        loss.backward()\n",
        "        optimizer.step()\n",
        "    print('epoch: ', epoch,' loss: ', loss.item())\n"
      ],
      "metadata": {
        "colab": {
          "base_uri": "https://localhost:8080/"
        },
        "id": "pdxHyhz5ZokG",
        "outputId": "75f6f9dd-0196-4d9c-f979-4b1ffebdaa9b"
      },
      "execution_count": null,
      "outputs": [
        {
          "output_type": "stream",
          "name": "stdout",
          "text": [
            "epoch:  0  loss:  1.5514445304870605\n",
            "epoch:  1  loss:  1.55144464969635\n",
            "epoch:  2  loss:  1.55144464969635\n",
            "epoch:  3  loss:  1.55144464969635\n",
            "epoch:  4  loss:  1.55144464969635\n",
            "epoch:  5  loss:  1.55144464969635\n",
            "epoch:  6  loss:  1.55144464969635\n",
            "epoch:  7  loss:  1.55144464969635\n",
            "epoch:  8  loss:  1.55144464969635\n",
            "epoch:  9  loss:  1.55144464969635\n"
          ]
        }
      ]
    },
    {
      "cell_type": "markdown",
      "source": [
        "Saving the model"
      ],
      "metadata": {
        "id": "8k4oMBqIaoz6"
      }
    },
    {
      "cell_type": "code",
      "source": [
        "torch.save(model,'modelf.model')"
      ],
      "metadata": {
        "id": "BRgbflwsaccu"
      },
      "execution_count": null,
      "outputs": []
    },
    {
      "cell_type": "markdown",
      "source": [
        "SVM Implementation"
      ],
      "metadata": {
        "id": "vofQ5Ni-b6lw"
      }
    },
    {
      "cell_type": "code",
      "source": [
        "X_train_size = (10248, 12629)\n",
        "y_train_size = (10248, 3)\n",
        "X_test_size = (4392, 12629)\n",
        "y_test_size = (4392, 3)\n",
        "\n",
        "weights = torch.randn(X_train_size[1], requires_grad=True)\n",
        "bias = torch.zeros(1, requires_grad=True)\n",
        "lr = 0.01\n",
        "optimizer = optim.Adam([weights, bias], lr=lr)\n",
        "num_epochs = 2000\n",
        "\n",
        "for epoch in range(num_epochs):\n",
        "    optimizer.zero_grad()\n",
        "\n",
        "    scores = torch.mm(X_train_tensor, weights.view(-1, 1)) + bias\n",
        "\n",
        "    hinge_loss = torch.mean(torch.max(torch.zeros_like(scores), 1 - y_train_tensor * scores))\n",
        "    l2_reg = 0.01 * torch.norm(weights)\n",
        "    loss = hinge_loss + l2_reg\n",
        "\n",
        "    loss.backward()\n",
        "    optimizer.step()\n",
        "\n",
        "    if (epoch+1) % 100 == 0:\n",
        "        print(f'Epoch [{epoch+1}/{num_epochs}], Loss: {loss.item():.4f}')"
      ],
      "metadata": {
        "id": "yKq4kFDFb7gv",
        "colab": {
          "base_uri": "https://localhost:8080/"
        },
        "outputId": "af5faa9a-7062-4a94-f5ed-31674eb3b0d7"
      },
      "execution_count": null,
      "outputs": [
        {
          "output_type": "stream",
          "name": "stdout",
          "text": [
            "Epoch [100/2000], Loss: 1.1548\n",
            "Epoch [200/2000], Loss: 0.7838\n",
            "Epoch [300/2000], Loss: 0.6870\n",
            "Epoch [400/2000], Loss: 0.6677\n",
            "Epoch [500/2000], Loss: 0.6672\n",
            "Epoch [600/2000], Loss: 0.6671\n",
            "Epoch [700/2000], Loss: 0.6671\n",
            "Epoch [800/2000], Loss: 0.6671\n",
            "Epoch [900/2000], Loss: 0.6672\n",
            "Epoch [1000/2000], Loss: 0.6671\n",
            "Epoch [1100/2000], Loss: 0.6671\n",
            "Epoch [1200/2000], Loss: 0.6672\n",
            "Epoch [1300/2000], Loss: 0.6671\n",
            "Epoch [1400/2000], Loss: 0.6672\n",
            "Epoch [1500/2000], Loss: 0.6671\n",
            "Epoch [1600/2000], Loss: 0.6671\n",
            "Epoch [1700/2000], Loss: 0.6670\n",
            "Epoch [1800/2000], Loss: 0.6670\n",
            "Epoch [1900/2000], Loss: 0.6671\n",
            "Epoch [2000/2000], Loss: 0.6670\n"
          ]
        }
      ]
    },
    {
      "cell_type": "markdown",
      "source": [
        "Evaluation Method: F1 Accuracy"
      ],
      "metadata": {
        "id": "ETyJI771cL5Y"
      }
    },
    {
      "cell_type": "code",
      "source": [
        "with torch.no_grad():\n",
        "    predicted_labels = torch.sign(torch.mm(X_test_tensor, weights.view(-1, 1)) + bias)\n",
        "    accuracy = (predicted_labels == y_test_tensor).float().mean()\n",
        "    print(f'Our model has an F1 Accuracy of: {accuracy.item():.4f}')"
      ],
      "metadata": {
        "id": "gZ2psmlvcIOk",
        "colab": {
          "base_uri": "https://localhost:8080/"
        },
        "outputId": "8f6d5ea9-cbda-477c-be22-7d3a9983aa11"
      },
      "execution_count": null,
      "outputs": [
        {
          "output_type": "stream",
          "name": "stdout",
          "text": [
            "Our model has an F1 Accuracy of: 0.3333\n"
          ]
        }
      ]
    }
  ]
}